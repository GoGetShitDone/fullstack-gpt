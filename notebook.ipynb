{
 "cells": [
  {
   "cell_type": "code",
   "execution_count": 94,
   "metadata": {},
   "outputs": [],
   "source": [
    "from langchain.chat_models import ChatOpenAI\n",
    "from langchain.prompts import ChatPromptTemplate\n",
    "from langchain.callbacks import StreamingStdOutCallbackHandler\n",
    "\n",
    "chat = ChatOpenAI(\n",
    "    temperature=0.1,\n",
    "    streaming=True,\n",
    "    callbacks=[\n",
    "        StreamingStdOutCallbackHandler(),\n",
    "    ],\n",
    ")\n",
    "\n",
    "chef_prompt = ChatPromptTemplate.from_messages(\n",
    "    [\n",
    "        (\n",
    "            \"system\",\n",
    "            \"You are a world-class international chef. You create easy to follow recipies for any type of cuisine with easy to find ingredients.\",\n",
    "        ),\n",
    "        (\"human\", \"I want to cook {cuisine} food.\"),\n",
    "    ]\n",
    ")\n",
    "\n",
    "chef_chain = chef_prompt | chat"
   ]
  },
  {
   "cell_type": "code",
   "execution_count": 95,
   "metadata": {},
   "outputs": [
    {
     "name": "stdout",
     "output_type": "stream",
     "text": [
      "Great! Indian cuisine is known for its rich flavors and aromatic spices. I will share an easy-to-follow recipe for an all-time favorite Indian dish called Butter Chicken.\n",
      "\n",
      "Butter Chicken Recipe:\n",
      "\n",
      "Ingredients:\n",
      "- 500g boneless chicken, cut into cubes\n",
      "- 1 cup plain yogurt\n",
      "- 1 tablespoon ginger-garlic paste\n",
      "- 1 teaspoon turmeric powder\n",
      "- 1 teaspoon red chili powder\n",
      "- 1 teaspoon garam masala\n",
      "- 1 teaspoon cumin powder\n",
      "- 1 teaspoon coriander powder\n",
      "- Salt to taste\n",
      "- 2 tablespoons butter\n",
      "- 1 tablespoon oil\n",
      "- 1 onion, finely chopped\n",
      "- 2 tomatoes, pureed\n",
      "- 2 tablespoons tomato paste\n",
      "- 1 teaspoon sugar\n",
      "- 1/2 cup heavy cream\n",
      "- Fresh coriander leaves, chopped (for garnish)\n",
      "\n",
      "Instructions:\n",
      "\n",
      "1. In a mixing bowl, combine yogurt, ginger-garlic paste, turmeric powder, red chili powder, garam masala, cumin powder, coriander powder, and salt. Mix well. Add the chicken cubes to the mixture, ensuring they are well coated. Marinate for at least 30 minutes or overnight for better flavor.\n",
      "\n",
      "2. In a large pan, melt the butter and oil over medium heat. Add the chopped onions and sauté until golden brown.\n",
      "\n",
      "3. Add the tomato puree and tomato paste to the pan. Cook for a few minutes until the oil starts to separate from the mixture.\n",
      "\n",
      "4. Add the marinated chicken to the pan, along with its marinade. Stir well to combine. Cook for about 10 minutes, or until the chicken is cooked and tender.\n",
      "\n",
      "5. Stir in the sugar and heavy cream, mixing well. Reduce the heat to low and let it simmer for another 5 minutes.\n",
      "\n",
      "6. Garnish the dish with fresh coriander leaves.\n",
      "\n",
      "Serve the delicious Butter Chicken with steamed basmati rice or naan bread. Enjoy the flavors of India right at your home!Butter Chicken is a popular Indian dish, and I understand that you would like to make it vegetarian. To replace the boneless chicken in this recipe, you can use a plant-based chicken substitute like tofu or tempeh. Here's how you can prepare the vegetarian version of Butter Chicken:\n",
      "\n",
      "Ingredients:\n",
      "- 500g tofu or tempeh, cut into cubes\n",
      "- 1 cup plain yogurt (you can use dairy-free yogurt if preferred)\n",
      "- 1 tablespoon ginger-garlic paste\n",
      "- 1 teaspoon turmeric powder\n",
      "- 1 teaspoon red chili powder\n",
      "- 1 teaspoon garam masala\n",
      "- 1 teaspoon cumin powder\n",
      "- 1 teaspoon coriander powder\n",
      "- Salt to taste\n",
      "- 2 tablespoons butter (you can use vegan butter or vegetable oil as a substitute)\n",
      "- 1 tablespoon oil\n",
      "- 1 onion, finely chopped\n",
      "- 2 tomatoes, pureed\n",
      "- 2 tablespoons tomato paste\n",
      "- 1 teaspoon sugar\n",
      "- 1/2 cup heavy cream (you can use coconut cream or cashew cream)\n",
      "- Fresh coriander leaves, chopped (for garnish)\n",
      "\n",
      "Instructions:\n",
      "\n",
      "1. In a mixing bowl, combine yogurt, ginger-garlic paste, turmeric powder, red chili powder, garam masala, cumin powder, coriander powder, and salt. Mix well. Add the tofu or tempeh cubes to the mixture, ensuring they are well coated. Marinate for at least 30 minutes or overnight for better flavor.\n",
      "\n",
      "2. In a large pan, melt the butter and oil over medium heat. Add the chopped onions and sauté until golden brown.\n",
      "\n",
      "3. Add the tomato puree and tomato paste to the pan. Cook for a few minutes until the oil starts to separate from the mixture.\n",
      "\n",
      "4. Add the marinated tofu or tempeh to the pan, along with its marinade. Stir well to combine. Cook for about 10 minutes, or until the tofu or tempeh is cooked and tender.\n",
      "\n",
      "5. Stir in the sugar and heavy cream (or coconut cream/cashew cream), mixing well. Reduce the heat to low and let it simmer for another 5 minutes.\n",
      "\n",
      "6. Garnish the dish with fresh coriander leaves.\n",
      "\n",
      "Serve the vegetarian Butter Chicken with steamed basmati rice or naan bread. Enjoy the flavors of India with this vegetarian twist!"
     ]
    },
    {
     "data": {
      "text/plain": [
       "AIMessageChunk(content=\"Butter Chicken is a popular Indian dish, and I understand that you would like to make it vegetarian. To replace the boneless chicken in this recipe, you can use a plant-based chicken substitute like tofu or tempeh. Here's how you can prepare the vegetarian version of Butter Chicken:\\n\\nIngredients:\\n- 500g tofu or tempeh, cut into cubes\\n- 1 cup plain yogurt (you can use dairy-free yogurt if preferred)\\n- 1 tablespoon ginger-garlic paste\\n- 1 teaspoon turmeric powder\\n- 1 teaspoon red chili powder\\n- 1 teaspoon garam masala\\n- 1 teaspoon cumin powder\\n- 1 teaspoon coriander powder\\n- Salt to taste\\n- 2 tablespoons butter (you can use vegan butter or vegetable oil as a substitute)\\n- 1 tablespoon oil\\n- 1 onion, finely chopped\\n- 2 tomatoes, pureed\\n- 2 tablespoons tomato paste\\n- 1 teaspoon sugar\\n- 1/2 cup heavy cream (you can use coconut cream or cashew cream)\\n- Fresh coriander leaves, chopped (for garnish)\\n\\nInstructions:\\n\\n1. In a mixing bowl, combine yogurt, ginger-garlic paste, turmeric powder, red chili powder, garam masala, cumin powder, coriander powder, and salt. Mix well. Add the tofu or tempeh cubes to the mixture, ensuring they are well coated. Marinate for at least 30 minutes or overnight for better flavor.\\n\\n2. In a large pan, melt the butter and oil over medium heat. Add the chopped onions and sauté until golden brown.\\n\\n3. Add the tomato puree and tomato paste to the pan. Cook for a few minutes until the oil starts to separate from the mixture.\\n\\n4. Add the marinated tofu or tempeh to the pan, along with its marinade. Stir well to combine. Cook for about 10 minutes, or until the tofu or tempeh is cooked and tender.\\n\\n5. Stir in the sugar and heavy cream (or coconut cream/cashew cream), mixing well. Reduce the heat to low and let it simmer for another 5 minutes.\\n\\n6. Garnish the dish with fresh coriander leaves.\\n\\nServe the vegetarian Butter Chicken with steamed basmati rice or naan bread. Enjoy the flavors of India with this vegetarian twist!\")"
      ]
     },
     "execution_count": 95,
     "metadata": {},
     "output_type": "execute_result"
    }
   ],
   "source": [
    "veg_chef_prompt = ChatPromptTemplate.from_messages(\n",
    "    [\n",
    "        (\n",
    "            \"system\",\n",
    "            \"You are a vegetarian chef specialized on making traditional recipies vegetarian. You find alternative ingredients and explain their preparation. You don't radically modify the recipe. If there is no alternative for a food just say you don't know how to replace it.\",\n",
    "        ),\n",
    "        (\"human\", \"{recipe}\"),\n",
    "    ]\n",
    ")\n",
    "\n",
    "\n",
    "veg_chain = veg_chef_prompt | chat\n",
    "\n",
    "\n",
    "final_chain = {\"recipe\": chef_chain} | veg_chain\n",
    "\n",
    "final_chain.invoke({\"cuisine\": \"indian\"})\n"
   ]
  },
  {
   "cell_type": "code",
   "execution_count": null,
   "metadata": {},
   "outputs": [],
   "source": []
  }
 ],
 "metadata": {
  "kernelspec": {
   "display_name": "env",
   "language": "python",
   "name": "python3"
  },
  "language_info": {
   "codemirror_mode": {
    "name": "ipython",
    "version": 3
   },
   "file_extension": ".py",
   "mimetype": "text/x-python",
   "name": "python",
   "nbconvert_exporter": "python",
   "pygments_lexer": "ipython3",
   "version": "3.11.6"
  }
 },
 "nbformat": 4,
 "nbformat_minor": 2
}
