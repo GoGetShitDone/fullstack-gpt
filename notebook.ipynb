{
 "cells": [
  {
   "cell_type": "code",
   "execution_count": 10,
   "metadata": {},
   "outputs": [
    {
     "name": "stdout",
     "output_type": "stream",
     "text": [
      "Here is a simple recipe for making soju at home:\n",
      "\n",
      "Ingredients:\n",
      "- 1 cup of rice\n",
      "- 1 cup of nuruk (Korean fermentation starter)\n",
      "- 8 cups of water\n",
      "- 1 tablespoon of yeast\n",
      "- 1 tablespoon of sugar (optional)\n",
      "\n",
      "Instructions:\n",
      "1. Rinse the rice thoroughly until the water runs clear.\n",
      "2. Soak the rice in water for about 1 hour, then drain.\n",
      "3. Steam the rice until it becomes soft and fully cooked.\n",
      "4. Let the cooked rice cool down to room temperature.\n",
      "5. In a large container, combine the cooled rice, nuruk, and water.\n",
      "6. Mix well until the nuruk is fully dissolved.\n",
      "7. Cover the container with a clean cloth or plastic wrap and let it sit at room temperature for about 2-3 days.\n",
      "8. After 2-3 days, you will notice bubbles forming on the surface, indicating fermentation.\n",
      "9. Strain the mixture through a cheesecloth or fine mesh strainer to remove any solids.\n",
      "10. Dissolve yeast and sugar (optional) in a small amount of warm water and add it to the strained liquid.\n",
      "11. Transfer the liquid to airtight bottles or jars, leaving some space at the top for expansion.\n",
      "12. Seal the bottles or jars tightly and let them sit at room temperature for another 2-3 days to allow further fermentation.\n",
      "13. After the second fermentation, your homemade soju is ready to be enjoyed.\n",
      "14. Store the bottles or jars in the refrigerator to slow down the fermentation process and extend the shelf life.\n",
      "\n",
      "Note: The fermentation time may vary depending on the temperature and other factors. It is important to monitor the fermentation process and adjust the timing accordingly. Additionally, please be aware of the legal regulations regarding homemade alcohol in your country or region. \n",
      "\n",
      "Here is a basic recipe for making bread:\n",
      "\n",
      "Ingredients:\n",
      "- 3 cups all-purpose flour\n",
      "- 1 tablespoon active dry yeast\n",
      "- 1 tablespoon sugar\n",
      "- 1 teaspoon salt\n",
      "- 1 ¼ cups warm water (around 110°F/43°C)\n",
      "- 2 tablespoons vegetable oil or melted butter\n",
      "\n",
      "Instructions:\n",
      "1. In a large mixing bowl, combine the warm water, sugar, and yeast. Let it sit for about 5 minutes until the yeast becomes foamy.\n",
      "\n",
      "2. Add the flour, salt, and oil (or melted butter) to the bowl. Mix everything together until a dough forms.\n",
      "\n",
      "3. Transfer the dough onto a floured surface and knead it for about 5-10 minutes until it becomes smooth and elastic. You can also use a stand mixer with a dough hook attachment for this step.\n",
      "\n",
      "4. Place the dough in a greased bowl and cover it with a clean kitchen towel or plastic wrap. Let it rise in a warm place for about 1-2 hours or until it doubles in size.\n",
      "\n",
      "5. Once the dough has risen, punch it down to release any air bubbles. Transfer it back to the floured surface and shape it into a loaf or desired shape.\n",
      "\n",
      "6. Place the shaped dough onto a greased or parchment-lined baking sheet. Cover it again and let it rise for another 30-45 minutes.\n",
      "\n",
      "7. Preheat your oven to 375°F (190°C) while the dough is rising.\n",
      "\n",
      "8. Once the dough has risen again, you can optionally brush the top with some melted butter or egg wash for a shiny crust.\n",
      "\n",
      "9. Bake the bread in the preheated oven for about 25-30 minutes, or until it turns golden brown and sounds hollow when tapped on the bottom.\n",
      "\n",
      "10. Remove the bread from the oven and let it cool on a wire rack before slicing and serving.\n",
      "\n",
      "Note: This is a basic bread recipe, and you can customize it by adding ingredients like herbs, cheese, nuts, or seeds to the dough for different flavors and textures. \n",
      "\n",
      "Tokens Used: 818\n",
      "\tPrompt Tokens: 27\n",
      "\tCompletion Tokens: 791\n",
      "Successful Requests: 2\n",
      "Total Cost (USD): $0.0016224999999999998\n"
     ]
    }
   ],
   "source": [
    "from langchain.chat_models import ChatOpenAI\n",
    "from langchain.callbacks import get_openai_callback\n",
    "\n",
    "chat = ChatOpenAI(\n",
    "    temperature=0.1,\n",
    ")\n",
    "\n",
    "\n",
    "with get_openai_callback() as usage:\n",
    "    a = chat.predict(\"What is the recipe for soju\")\n",
    "    b = chat.predict(\"What is the recipe for bread\")\n",
    "    print(a, \"\\n\")\n",
    "    print(b, \"\\n\")\n",
    "    print(usage)"
   ]
  },
  {
   "cell_type": "code",
   "execution_count": null,
   "metadata": {},
   "outputs": [],
   "source": []
  }
 ],
 "metadata": {
  "kernelspec": {
   "display_name": "env",
   "language": "python",
   "name": "python3"
  },
  "language_info": {
   "codemirror_mode": {
    "name": "ipython",
    "version": 3
   },
   "file_extension": ".py",
   "mimetype": "text/x-python",
   "name": "python",
   "nbconvert_exporter": "python",
   "pygments_lexer": "ipython3",
   "version": "3.11.6"
  }
 },
 "nbformat": 4,
 "nbformat_minor": 2
}
